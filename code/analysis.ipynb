{
 "cells": [
  {
   "cell_type": "code",
   "execution_count": 15,
   "metadata": {},
   "outputs": [
    {
     "name": "stdout",
     "output_type": "stream",
     "text": [
      "Defaulting to user installation because normal site-packages is not writeable\n",
      "Requirement already satisfied: astropy in /Users/rishinroy/Library/Python/3.9/lib/python/site-packages (6.0.1)\n",
      "Requirement already satisfied: astropy-iers-data>=0.2024.2.26.0.28.55 in /Users/rishinroy/Library/Python/3.9/lib/python/site-packages (from astropy) (0.2025.3.24.0.35.32)\n",
      "Requirement already satisfied: pyerfa>=2.0.1.1 in /Users/rishinroy/Library/Python/3.9/lib/python/site-packages (from astropy) (2.0.1.5)\n",
      "Requirement already satisfied: PyYAML>=3.13 in /Users/rishinroy/Library/Python/3.9/lib/python/site-packages (from astropy) (6.0.2)\n",
      "Requirement already satisfied: packaging>=19.0 in /Users/rishinroy/Library/Python/3.9/lib/python/site-packages (from astropy) (24.2)\n",
      "Requirement already satisfied: numpy<2,>=1.22 in /Users/rishinroy/Library/Python/3.9/lib/python/site-packages (from astropy) (1.26.4)\n",
      "\u001b[33mWARNING: You are using pip version 21.2.4; however, version 25.0.1 is available.\n",
      "You should consider upgrading via the '/Library/Developer/CommandLineTools/usr/bin/python3 -m pip install --upgrade pip' command.\u001b[0m\n",
      "Note: you may need to restart the kernel to use updated packages.\n",
      "Defaulting to user installation because normal site-packages is not writeable\n",
      "Requirement already satisfied: specutils in /Users/rishinroy/Library/Python/3.9/lib/python/site-packages (1.16.0)\n",
      "Requirement already satisfied: gwcs>=0.18 in /Users/rishinroy/Library/Python/3.9/lib/python/site-packages (from specutils) (0.21.0)\n",
      "Requirement already satisfied: numpy>=1.19 in /Users/rishinroy/Library/Python/3.9/lib/python/site-packages (from specutils) (1.26.4)\n",
      "Requirement already satisfied: astropy>=5.1 in /Users/rishinroy/Library/Python/3.9/lib/python/site-packages (from specutils) (6.0.1)\n",
      "Requirement already satisfied: ndcube>=2.0 in /Users/rishinroy/Library/Python/3.9/lib/python/site-packages (from specutils) (2.2.4)\n",
      "Requirement already satisfied: asdf>=2.14.4 in /Users/rishinroy/Library/Python/3.9/lib/python/site-packages (from specutils) (4.1.0)\n",
      "Requirement already satisfied: asdf-astropy>=0.3 in /Users/rishinroy/Library/Python/3.9/lib/python/site-packages (from specutils) (0.6.1)\n",
      "Requirement already satisfied: scipy>=1.3 in /Users/rishinroy/Library/Python/3.9/lib/python/site-packages (from specutils) (1.13.1)\n",
      "Requirement already satisfied: packaging>=19 in /Users/rishinroy/Library/Python/3.9/lib/python/site-packages (from asdf>=2.14.4->specutils) (24.2)\n",
      "Requirement already satisfied: pyyaml>=5.4.1 in /Users/rishinroy/Library/Python/3.9/lib/python/site-packages (from asdf>=2.14.4->specutils) (6.0.2)\n",
      "Requirement already satisfied: jmespath>=0.6.2 in /Users/rishinroy/Library/Python/3.9/lib/python/site-packages (from asdf>=2.14.4->specutils) (1.0.1)\n",
      "Requirement already satisfied: asdf-standard>=1.1.0 in /Users/rishinroy/Library/Python/3.9/lib/python/site-packages (from asdf>=2.14.4->specutils) (1.1.1)\n",
      "Requirement already satisfied: importlib-metadata>=4.11.4 in /Users/rishinroy/Library/Python/3.9/lib/python/site-packages (from asdf>=2.14.4->specutils) (8.6.1)\n",
      "Requirement already satisfied: semantic_version>=2.8 in /Users/rishinroy/Library/Python/3.9/lib/python/site-packages (from asdf>=2.14.4->specutils) (2.10.0)\n",
      "Requirement already satisfied: attrs>=22.2.0 in /Users/rishinroy/Library/Python/3.9/lib/python/site-packages (from asdf>=2.14.4->specutils) (25.3.0)\n",
      "Requirement already satisfied: asdf-transform-schemas>=0.3 in /Users/rishinroy/Library/Python/3.9/lib/python/site-packages (from asdf>=2.14.4->specutils) (0.5.0)\n",
      "Requirement already satisfied: asdf-coordinates-schemas>=0.3 in /Users/rishinroy/Library/Python/3.9/lib/python/site-packages (from asdf-astropy>=0.3->specutils) (0.3.0)\n",
      "Requirement already satisfied: astropy-iers-data>=0.2024.2.26.0.28.55 in /Users/rishinroy/Library/Python/3.9/lib/python/site-packages (from astropy>=5.1->specutils) (0.2025.3.24.0.35.32)\n",
      "Requirement already satisfied: pyerfa>=2.0.1.1 in /Users/rishinroy/Library/Python/3.9/lib/python/site-packages (from astropy>=5.1->specutils) (2.0.1.5)\n",
      "Requirement already satisfied: asdf-wcs-schemas>=0.4.0 in /Users/rishinroy/Library/Python/3.9/lib/python/site-packages (from gwcs>=0.18->specutils) (0.4.0)\n",
      "Requirement already satisfied: zipp>=3.20 in /Users/rishinroy/Library/Python/3.9/lib/python/site-packages (from importlib-metadata>=4.11.4->asdf>=2.14.4->specutils) (3.21.0)\n",
      "\u001b[33mWARNING: You are using pip version 21.2.4; however, version 25.0.1 is available.\n",
      "You should consider upgrading via the '/Library/Developer/CommandLineTools/usr/bin/python3 -m pip install --upgrade pip' command.\u001b[0m\n",
      "Note: you may need to restart the kernel to use updated packages.\n",
      "Defaulting to user installation because normal site-packages is not writeable\n",
      "Requirement already satisfied: matplotlib in /Users/rishinroy/Library/Python/3.9/lib/python/site-packages (3.9.4)\n",
      "Requirement already satisfied: kiwisolver>=1.3.1 in /Users/rishinroy/Library/Python/3.9/lib/python/site-packages (from matplotlib) (1.4.7)\n",
      "Requirement already satisfied: cycler>=0.10 in /Users/rishinroy/Library/Python/3.9/lib/python/site-packages (from matplotlib) (0.12.1)\n",
      "Requirement already satisfied: pillow>=8 in /Users/rishinroy/Library/Python/3.9/lib/python/site-packages (from matplotlib) (11.1.0)\n",
      "Requirement already satisfied: pyparsing>=2.3.1 in /Users/rishinroy/Library/Python/3.9/lib/python/site-packages (from matplotlib) (3.2.3)\n",
      "Requirement already satisfied: fonttools>=4.22.0 in /Users/rishinroy/Library/Python/3.9/lib/python/site-packages (from matplotlib) (4.56.0)\n",
      "Requirement already satisfied: contourpy>=1.0.1 in /Users/rishinroy/Library/Python/3.9/lib/python/site-packages (from matplotlib) (1.3.0)\n",
      "Requirement already satisfied: numpy>=1.23 in /Users/rishinroy/Library/Python/3.9/lib/python/site-packages (from matplotlib) (1.26.4)\n",
      "Requirement already satisfied: importlib-resources>=3.2.0 in /Users/rishinroy/Library/Python/3.9/lib/python/site-packages (from matplotlib) (6.5.2)\n",
      "Requirement already satisfied: python-dateutil>=2.7 in /Users/rishinroy/Library/Python/3.9/lib/python/site-packages (from matplotlib) (2.9.0.post0)\n",
      "Requirement already satisfied: packaging>=20.0 in /Users/rishinroy/Library/Python/3.9/lib/python/site-packages (from matplotlib) (24.2)\n",
      "Requirement already satisfied: zipp>=3.1.0 in /Users/rishinroy/Library/Python/3.9/lib/python/site-packages (from importlib-resources>=3.2.0->matplotlib) (3.21.0)\n",
      "Requirement already satisfied: six>=1.5 in /Library/Developer/CommandLineTools/Library/Frameworks/Python3.framework/Versions/3.9/lib/python3.9/site-packages (from python-dateutil>=2.7->matplotlib) (1.15.0)\n",
      "\u001b[33mWARNING: You are using pip version 21.2.4; however, version 25.0.1 is available.\n",
      "You should consider upgrading via the '/Library/Developer/CommandLineTools/usr/bin/python3 -m pip install --upgrade pip' command.\u001b[0m\n",
      "Note: you may need to restart the kernel to use updated packages.\n"
     ]
    }
   ],
   "source": [
    "%pip install astropy\n",
    "%pip install specutils\n",
    "%pip install matplotlib"
   ]
  },
  {
   "cell_type": "code",
   "execution_count": 16,
   "metadata": {},
   "outputs": [],
   "source": [
    "from astropy.io import fits\n",
    "from specutils import Spectrum1D\n",
    "from astropy.visualization import quantity_support\n",
    "import matplotlib.pyplot as plt"
   ]
  },
  {
   "cell_type": "code",
   "execution_count": null,
   "metadata": {},
   "outputs": [],
   "source": [
    "file = fits.open('data/ganymede.fits')\n",
    "print(file.info())\n",
    "\n",
    "header = file[0].header\n",
    "print(header[:5])\n",
    "\n",
    "spectra = Spectrum1D.read(file)\n",
    "#spectra\n",
    "\n",
    "quantity_support()\n",
    "fig, ax = plt.subplots()\n",
    "plt.title(\"1D Spectra Visualization of Ganymede\")\n",
    "ax.step(spectra.spectral_axis, spectra.flux)\n",
    "print(\"finsihed plotting\")"
   ]
  }
 ],
 "metadata": {
  "kernelspec": {
   "display_name": "Python 3",
   "language": "python",
   "name": "python3"
  },
  "language_info": {
   "codemirror_mode": {
    "name": "ipython",
    "version": 3
   },
   "file_extension": ".py",
   "mimetype": "text/x-python",
   "name": "python",
   "nbconvert_exporter": "python",
   "pygments_lexer": "ipython3",
   "version": "3.9.6"
  }
 },
 "nbformat": 4,
 "nbformat_minor": 2
}
